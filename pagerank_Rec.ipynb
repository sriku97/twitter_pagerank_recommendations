{
 "cells": [
  {
   "cell_type": "markdown",
   "id": "26633750",
   "metadata": {},
   "source": [
    "# Personalized PageRank Graph Visualization"
   ]
  },
  {
   "cell_type": "code",
   "execution_count": 1,
   "id": "ede6e376-c720-4358-ab12-828829fc366e",
   "metadata": {},
   "outputs": [],
   "source": [
    "from matplotlib.animation import FuncAnimation\n",
    "import gzip\n",
    "import matplotlib.pyplot as plt\n",
    "import networkx as nx\n",
    "import numpy as np\n",
    "import os\n",
    "import shutil\n",
    "import urllib.request"
   ]
  },
  {
   "cell_type": "markdown",
   "id": "3f5bdf96",
   "metadata": {},
   "source": [
    "### Dataset Filenames"
   ]
  },
  {
   "cell_type": "code",
   "execution_count": 2,
   "id": "b9dbc768",
   "metadata": {},
   "outputs": [],
   "source": [
    "filenames = [\n",
    "    # 'higgs-social_network.edgelist',\n",
    "    'higgs-retweet_network.edgelist',\n",
    "    'higgs-reply_network.edgelist',\n",
    "    'higgs-mention_network.edgelist'\n",
    "]"
   ]
  },
  {
   "cell_type": "markdown",
   "id": "4ae3fdd5",
   "metadata": {},
   "source": [
    "### Retrieve Dataset if Not Present in Directory"
   ]
  },
  {
   "cell_type": "code",
   "execution_count": 3,
   "id": "342ee526",
   "metadata": {},
   "outputs": [],
   "source": [
    "ROOT = 'https://snap.stanford.edu/data'\n",
    "\n",
    "for filename in filenames:\n",
    "    if not os.path.exists(filename):\n",
    "        # Download .gz file\n",
    "        urllib.request.urlretrieve(f'{ROOT}/{filename}.gz', f'{filename}.gz')\n",
    "\n",
    "        # Extract .edgelist file from .gz file\n",
    "        with gzip.open(f'{filename}.gz') as gzip_file:\n",
    "            with open(filename, 'wb') as edgelist_file:\n",
    "                shutil.copyfileobj(gzip_file, edgelist_file)\n",
    "        \n",
    "        # Remove .gz file\n",
    "        os.remove(f'{filename}.gz')"
   ]
  },
  {
   "cell_type": "markdown",
   "id": "86acdc4d",
   "metadata": {},
   "source": [
    "### Personalized PageRank Algorithm"
   ]
  },
  {
   "cell_type": "code",
   "execution_count": 141,
   "id": "6e35565b",
   "metadata": {},
   "outputs": [],
   "source": [
    "def personalized_pagerank(G, input_node, beta=0.85, tolerance=1e-6):\n",
    "    N = len(G.nodes)\n",
    "    \n",
    "    # Assign numeric node_id to each node\n",
    "    node_ids = dict(zip(G.nodes, np.arange(0, N)))\n",
    "    nx.set_node_attributes(G, node_ids, 'node_id')\n",
    "\n",
    "    # Generate personalization vector based on input node\n",
    "    personalization_vec = np.zeros(N)\n",
    "    personalization_vec[G.nodes[input_node]['node_id']] = 1\n",
    "\n",
    "    # Transition matrix\n",
    "    tsn_mx = np.zeros(shape=(N, N))\n",
    "    for edge in G.edges():\n",
    "        u = G.nodes[edge[0]]['node_id']\n",
    "        v = G.nodes[edge[1]]['node_id']\n",
    "        tsn_mx[v, u] = 1 / np.where(G.out_degree(edge[0]) > 0, G.out_degree(edge[0]), 1)\n",
    "\n",
    "    # Handling dangling nodes\n",
    "    row_sum = tsn_mx.sum(axis=0)\n",
    "    dangling_weights = personalization_vec\n",
    "    is_dangling = np.where(row_sum == 0)[0]\n",
    "\n",
    "    # PageRank vector, prev_pr to keep track of previous value to test convergence\n",
    "    pr = np.ones(N)\n",
    "    prev_pr = np.zeros(N)\n",
    "\n",
    "    # Iterate PageRank calculation until convergence\n",
    "    i = 0\n",
    "    yield G.nodes, pr, i, input_node\n",
    "    yield G.nodes, pr, i, input_node\n",
    "    while ~np.all(np.abs(pr - prev_pr) < tolerance):\n",
    "        prev_pr = pr\n",
    "        pr = beta * (np.matmul(tsn_mx, pr) + sum(pr[is_dangling]) * dangling_weights) + (1 - beta) * personalization_vec\n",
    "        pr /= np.linalg.norm(pr, ord=1)\n",
    "        i += 1\n",
    "\n",
    "        yield G.nodes, pr, i, input_node\n",
    "\n",
    "    # Set PageRank values as node attributes\n",
    "    pagerank = dict(zip(G.nodes, pr))\n",
    "    nx.set_node_attributes(G, pagerank, 'pagerank')\n",
    "\n",
    "    # Print top 20 recommendations\n",
    "    print(sorted(G.nodes, key=lambda n: G.nodes[n]['pagerank'], reverse=True)[:20])\n",
    "\n",
    "    return pr"
   ]
  },
  {
   "cell_type": "markdown",
   "id": "ffdbfbc7",
   "metadata": {},
   "source": [
    "### Twitter Dataset"
   ]
  },
  {
   "cell_type": "code",
   "execution_count": 7,
   "id": "f58ca094",
   "metadata": {},
   "outputs": [
    {
     "name": "stdout",
     "output_type": "stream",
     "text": [
      "['22832', '20120', '22775', '12949', '20192', '92293', '22816', '117340', '18262', '4741', '43742', '7756', '213975', '7274', '245', '957', '14454', '2164', '40669', '12462']\n"
     ]
    },
    {
     "data": {
      "text/plain": [
       "array([0.00000000e+00, 1.80579372e-43, 0.00000000e+00, ...,\n",
       "       0.00000000e+00, 0.00000000e+00, 0.00000000e+00])"
      ]
     },
     "execution_count": 7,
     "metadata": {},
     "output_type": "execute_result"
    }
   ],
   "source": [
    "# Retrieve edges from dataset\n",
    "G = nx.DiGraph()\n",
    "\n",
    "for filename in filenames:\n",
    "    with open(filename, 'r') as f:\n",
    "        G.add_edges_from([tuple(edge.split(' ')[:2]) for edge in f.readlines()])\n",
    "\n",
    "personalized_pagerank(G, '20120')"
   ]
  },
  {
   "cell_type": "markdown",
   "id": "ef9b6570-a99a-44dc-842c-2c89210a47cc",
   "metadata": {},
   "source": [
    "### Test on Smaller Graph"
   ]
  },
  {
   "cell_type": "code",
   "execution_count": 182,
   "id": "9be797a6",
   "metadata": {},
   "outputs": [
    {
     "name": "stdout",
     "output_type": "stream",
     "text": [
      "[3, 8, 5, 1, 6, 4, 2, 7]\n",
      "[(NodeView((1, 2, 3, 4, 5, 6, 7, 8)), array([1., 1., 1., 1., 1., 1., 1., 1.]), 0, 3), (NodeView((1, 2, 3, 4, 5, 6, 7, 8)), array([1., 1., 1., 1., 1., 1., 1., 1.]), 0, 3), (NodeView((1, 2, 3, 4, 5, 6, 7, 8)), array([0.12230216, 0.03057554, 0.37829736, 0.07134293, 0.11211031,\n",
      "       0.04076739, 0.04076739, 0.20383693]), 1, 3), (NodeView((1, 2, 3, 4, 5, 6, 7, 8)), array([0.12739808, 0.02598921, 0.41277978, 0.03465228, 0.15338729,\n",
      "       0.10718425, 0.01155076, 0.12705835]), 2, 3), (NodeView((1, 2, 3, 4, 5, 6, 7, 8)), array([0.15468675, 0.02707209, 0.31207159, 0.0344357 , 0.15384451,\n",
      "       0.11695427, 0.03036887, 0.17056621]), 3, 3), (NodeView((1, 2, 3, 4, 5, 6, 7, 8)), array([0.12922775, 0.03287093, 0.37109297, 0.04054136, 0.131048  ,\n",
      "       0.08842028, 0.03313704, 0.17366166]), 4, 3), (NodeView((1, 2, 3, 4, 5, 6, 7, 8)), array([0.13950885, 0.0274609 , 0.37403994, 0.03677433, 0.14409062,\n",
      "       0.10514301, 0.02505241, 0.14792993]), 5, 3), (NodeView((1, 2, 3, 4, 5, 6, 7, 8)), array([0.14354909, 0.02964563, 0.34488061, 0.03742622, 0.14604301,\n",
      "       0.10597798, 0.02979052, 0.16268694]), 6, 3), (NodeView((1, 2, 3, 4, 5, 6, 7, 8)), array([0.13614286, 0.03050418, 0.36311371, 0.03890378, 0.13882445,\n",
      "       0.09771617, 0.0300271 , 0.16476775]), 7, 3), (NodeView((1, 2, 3, 4, 5, 6, 7, 8)), array([0.13921132, 0.02893036, 0.36417156, 0.03757321, 0.14283531,\n",
      "       0.10288222, 0.02768625, 0.15670977]), 8, 3), (NodeView((1, 2, 3, 4, 5, 6, 7, 8)), array([0.14052884, 0.02958241, 0.3551617 , 0.03777934, 0.14341009,\n",
      "       0.10318194, 0.02914996, 0.16120572]), 9, 3), (NodeView((1, 2, 3, 4, 5, 6, 7, 8)), array([0.13824571, 0.02986238, 0.36075054, 0.03824406, 0.14119567,\n",
      "       0.10062915, 0.02923488, 0.16183761]), 10, 3), (NodeView((1, 2, 3, 4, 5, 6, 7, 8)), array([0.13918525, 0.02937721, 0.36108566, 0.03783822, 0.14242568,\n",
      "       0.10221265, 0.02851159, 0.15936373]), 11, 3), (NodeView((1, 2, 3, 4, 5, 6, 7, 8)), array([0.1395914 , 0.02957687, 0.35831526, 0.03790041, 0.1426053 ,\n",
      "       0.1023076 , 0.02896025, 0.16074291]), 12, 3), (NodeView((1, 2, 3, 4, 5, 6, 7, 8)), array([0.13888992, 0.02966317, 0.36002942, 0.03804328, 0.14192428,\n",
      "       0.10152266, 0.02898715, 0.16094011]), 13, 3), (NodeView((1, 2, 3, 4, 5, 6, 7, 8)), array([0.13917765, 0.02951411, 0.36013578, 0.03791867, 0.14230138,\n",
      "       0.10200834, 0.02876475, 0.16017932]), 14, 3), (NodeView((1, 2, 3, 4, 5, 6, 7, 8)), array([0.13930316, 0.02957525, 0.35928367, 0.03793758, 0.14235735,\n",
      "       0.10203847, 0.02890236, 0.16060216]), 15, 3), (NodeView((1, 2, 3, 4, 5, 6, 7, 8)), array([0.13908759, 0.02960192, 0.3598094 , 0.03798158, 0.14214794,\n",
      "       0.10179704, 0.0289109 , 0.16066363]), 16, 3), (NodeView((1, 2, 3, 4, 5, 6, 7, 8)), array([0.1391757 , 0.02955611, 0.35984312, 0.03794333, 0.14226356,\n",
      "       0.101946  , 0.02884249, 0.16042969]), 17, 3), (NodeView((1, 2, 3, 4, 5, 6, 7, 8)), array([0.13921448, 0.02957484, 0.35958104, 0.03794907, 0.142281  ,\n",
      "       0.10195555, 0.0288847 , 0.16055933]), 18, 3), (NodeView((1, 2, 3, 4, 5, 6, 7, 8)), array([0.13914824, 0.02958308, 0.35974228, 0.03796261, 0.14221661,\n",
      "       0.10188129, 0.02888741, 0.16057849]), 19, 3), (NodeView((1, 2, 3, 4, 5, 6, 7, 8)), array([0.13917522, 0.029569  , 0.35975296, 0.03795087, 0.14225205,\n",
      "       0.10192698, 0.02886637, 0.16050656]), 20, 3), (NodeView((1, 2, 3, 4, 5, 6, 7, 8)), array([0.1391872 , 0.02957473, 0.35967235, 0.03795262, 0.14225748,\n",
      "       0.10193   , 0.02887931, 0.1605463 ]), 21, 3), (NodeView((1, 2, 3, 4, 5, 6, 7, 8)), array([0.13916684, 0.02957728, 0.3597218 , 0.03795679, 0.14223769,\n",
      "       0.10190717, 0.02888017, 0.16055227]), 22, 3), (NodeView((1, 2, 3, 4, 5, 6, 7, 8)), array([0.1391751 , 0.02957295, 0.35972518, 0.03795318, 0.14224855,\n",
      "       0.10192118, 0.0288737 , 0.16053015]), 23, 3), (NodeView((1, 2, 3, 4, 5, 6, 7, 8)), array([0.1391788 , 0.02957471, 0.35970039, 0.03795371, 0.14225025,\n",
      "       0.10192213, 0.02887767, 0.16054234]), 24, 3), (NodeView((1, 2, 3, 4, 5, 6, 7, 8)), array([0.13917255, 0.0295755 , 0.35971555, 0.037955  , 0.14224416,\n",
      "       0.10191511, 0.02887794, 0.1605442 ]), 25, 3), (NodeView((1, 2, 3, 4, 5, 6, 7, 8)), array([0.13917508, 0.02957417, 0.35971662, 0.03795389, 0.14224749,\n",
      "       0.10191941, 0.02887595, 0.1605374 ]), 26, 3), (NodeView((1, 2, 3, 4, 5, 6, 7, 8)), array([0.13917622, 0.0295747 , 0.359709  , 0.03795405, 0.14224802,\n",
      "       0.10191971, 0.02887717, 0.16054113]), 27, 3), (NodeView((1, 2, 3, 4, 5, 6, 7, 8)), array([0.1391743 , 0.02957495, 0.35971365, 0.03795445, 0.14224614,\n",
      "       0.10191755, 0.02887725, 0.16054171]), 28, 3), (NodeView((1, 2, 3, 4, 5, 6, 7, 8)), array([0.13917507, 0.02957454, 0.35971399, 0.03795411, 0.14224717,\n",
      "       0.10191887, 0.02887664, 0.16053962]), 29, 3), (NodeView((1, 2, 3, 4, 5, 6, 7, 8)), array([0.13917543, 0.0295747 , 0.35971164, 0.03795416, 0.14224733,\n",
      "       0.10191896, 0.02887701, 0.16054077]), 30, 3), (NodeView((1, 2, 3, 4, 5, 6, 7, 8)), array([0.13917484, 0.02957478, 0.35971307, 0.03795428, 0.14224675,\n",
      "       0.1019183 , 0.02887704, 0.16054095]), 31, 3), (NodeView((1, 2, 3, 4, 5, 6, 7, 8)), array([0.13917507, 0.02957465, 0.35971317, 0.03795417, 0.14224707,\n",
      "       0.1019187 , 0.02887685, 0.1605403 ]), 32, 3)]\n"
     ]
    },
    {
     "data": {
      "text/plain": [
       "{1: 0.13917533276657815,\n",
       " 2: 0.029574794432214193,\n",
       " 3: 0.3597113076641808,\n",
       " 4: 0.03795422143004194,\n",
       " 5: 0.1422471692390428,\n",
       " 6: 0.10191874208140392,\n",
       " 7: 0.028877163687346476,\n",
       " 8: 0.16054126869919164}"
      ]
     },
     "execution_count": 182,
     "metadata": {},
     "output_type": "execute_result"
    }
   ],
   "source": [
    "edges = [\n",
    "    (1, 2),\n",
    "    (2, 1),\n",
    "    (1, 3),\n",
    "    (3, 1),\n",
    "    (2, 4),\n",
    "    (4, 3),\n",
    "    (1, 4),\n",
    "    (2, 3),\n",
    "    (4, 5),\n",
    "    (1, 5),\n",
    "    (3, 5),\n",
    "    (6, 1),\n",
    "    (3, 6),\n",
    "    (6, 7),\n",
    "    (6, 8),\n",
    "    (6, 1),\n",
    "    (4, 8),\n",
    "    (5, 8),\n",
    "    (7, 3),\n",
    "    \n",
    "]\n",
    "\n",
    "# Compare PageRank values with NetworkX\n",
    "G = nx.DiGraph()\n",
    "G.add_edges_from(edges)\n",
    "print(list(personalized_pagerank(G, 3)))\n",
    "nx.pagerank(G, alpha=0.85, personalization={1: 0, 2: 0, 3: 1, 4: 0, 5: 0})"
   ]
  },
  {
   "cell_type": "markdown",
   "id": "51b07250",
   "metadata": {},
   "source": [
    "### Visualize Graph"
   ]
  },
  {
   "cell_type": "code",
   "execution_count": 185,
   "id": "fd95fb1f",
   "metadata": {},
   "outputs": [],
   "source": [
    "def update(r):\n",
    "    nodes, pr, i, input_node = r\n",
    "    plt.cla()\n",
    "    color_map = ['lime' if node == input_node else 'cyan' for node in G]\n",
    "    plt_nodes = nx.draw_networkx_nodes(\n",
    "        G,\n",
    "        pos=nx.kamada_kawai_layout(G),\n",
    "        ax=ax,\n",
    "        nodelist=nodes,\n",
    "        node_color=color_map,\n",
    "        alpha=0.5,\n",
    "        node_size=pr*5000,\n",
    "        vmin=0,\n",
    "        vmax=0.3\n",
    "    )\n",
    "    ax.set_title(f'Iteration {i}')\n",
    "    nx.draw_networkx_edges(G, nx.kamada_kawai_layout(G), node_size=3000, arrowsize=20, arrows=True, width=2)\n",
    "    nx.draw_networkx_labels(G, nx.kamada_kawai_layout(G), labels=dict(zip(nodes,np.around(pr,4))), font_size=8)\n",
    "    \n",
    "    return [plt_nodes, ]"
   ]
  },
  {
   "cell_type": "code",
   "execution_count": 186,
   "id": "933afb53",
   "metadata": {},
   "outputs": [
    {
     "name": "stdout",
     "output_type": "stream",
     "text": [
      "[3, 8, 5, 1, 6, 4, 2, 7]\n"
     ]
    },
    {
     "data": {
      "image/png": "[encoded data removed]",
      "text/plain": [
       "<Figure size 576x576 with 1 Axes>"
      ]
     },
     "metadata": {},
     "output_type": "display_data"
    }
   ],
   "source": [
    "input_node = 3\n",
    "\n",
    "f, ax = plt.subplots()\n",
    "f.set_figheight(8)\n",
    "f.set_figwidth(8)\n",
    "ani = FuncAnimation(\n",
    "    f,\n",
    "    update,\n",
    "    frames=personalized_pagerank(G, input_node),\n",
    "    interval=700,\n",
    "    blit=False\n",
    ")\n",
    "f.suptitle(f'Personalized Page Rank - Input Node: {input_node}')\n",
    "ani.save('personalized_pagerank.gif')"
   ]
  },
  {
   "cell_type": "markdown",
   "id": "956fc25b-f1d0-4caa-9a57-cde90f50d420",
   "metadata": {},
   "source": [
    "### References:\n",
    "\n",
    "https://github.com/networkx/networkx/blob/main/networkx/algorithms/link_analysis/pagerank_alg.py\n",
    "<br>\n",
    "https://towardsdatascience.com/pagerank-algorithm-fully-explained-dc794184b4af\n",
    "<br>\n",
    "https://www.youtube.com/watch?v=RVIr8Y5isek\n",
    "<br>\n",
    "Visualization:\n",
    "https://stellasia.github.io/blog/2020-03-07-page-rank-animation-with-networkx-numpy-and-matplotlib/"
   ]
  }
 ],
 "metadata": {
  "interpreter": {
   "hash": "0860614780efcf110da9fdef7fce3178bfa1964cb5f7a7e94ed291ca6d1b7c50"
  },
  "kernelspec": {
   "display_name": "Python 3.8",
   "language": "python",
   "name": "python3"
  },
  "language_info": {
   "codemirror_mode": {
    "name": "ipython",
    "version": 3
   },
   "file_extension": ".py",
   "mimetype": "text/x-python",
   "name": "python",
   "nbconvert_exporter": "python",
   "pygments_lexer": "ipython3",
   "version": "3.8.10"
  }
 },
 "nbformat": 4,
 "nbformat_minor": 5
}
